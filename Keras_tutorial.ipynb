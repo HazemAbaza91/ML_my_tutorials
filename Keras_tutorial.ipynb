{
  "nbformat": 4,
  "nbformat_minor": 0,
  "metadata": {
    "colab": {
      "name": "Keras-tutorial.ipynb",
      "version": "0.3.2",
      "provenance": [],
      "collapsed_sections": []
    },
    "kernelspec": {
      "name": "python2",
      "display_name": "Python 2"
    }
  },
  "cells": [
    {
      "metadata": {
        "id": "Em8ivLd5vEqF",
        "colab_type": "code",
        "outputId": "8373932c-3cbe-4deb-cbde-9f06c7674a16",
        "colab": {
          "base_uri": "https://localhost:8080/",
          "height": 35
        }
      },
      "cell_type": "code",
      "source": [
        "from tensorflow import keras\n",
        "\n",
        "import numpy as np\n",
        "from random import randint\n",
        "from sklearn.preprocessing import MinMaxScaler\n",
        "\n",
        "from keras import backend as k\n",
        "from keras.models import Sequential\n",
        "from keras.layers import Activation\n",
        "from keras.layers.core import Dense\n",
        "from keras.optimizers import Adam\n",
        "from keras.metrics import categorical_crossentropy"
      ],
      "execution_count": 0,
      "outputs": [
        {
          "output_type": "stream",
          "text": [
            "Using TensorFlow backend.\n"
          ],
          "name": "stderr"
        }
      ]
    },
    {
      "metadata": {
        "id": "6cfrMrnKvGQZ",
        "colab_type": "code",
        "colab": {}
      },
      "cell_type": "code",
      "source": [
        "train_labels=[]\n",
        "train_samples=[]\n"
      ],
      "execution_count": 0,
      "outputs": []
    },
    {
      "metadata": {
        "id": "oBb4ZuhYwN3p",
        "colab_type": "code",
        "colab": {}
      },
      "cell_type": "code",
      "source": [
        "for i in range(50):\n",
        "   random_younger=randint(13,64)\n",
        "   train_samples.append(random_younger)\n",
        "   train_labels.append(0)\n",
        "  \n",
        "   random_older=randint(65,100)\n",
        "   train_samples.append(random_older)\n",
        "   train_labels.append(1) \n",
        "\n",
        "\n",
        "\n",
        "\n",
        "\n",
        "for i in range(1000):\n",
        "  random_younger=randint(13,64)\n",
        "  train_samples.append(random_younger)\n",
        "  train_labels.append(1)\n",
        "  \n",
        "  random_older=randint(65,100)\n",
        "  train_samples.append(random_older)\n",
        "  train_labels.append(0)\n",
        "  \n",
        "  \n",
        "  \n",
        "  \n",
        "\n",
        "  "
      ],
      "execution_count": 0,
      "outputs": []
    },
    {
      "metadata": {
        "id": "oSX5xZap1eQj",
        "colab_type": "text"
      },
      "cell_type": "markdown",
      "source": [
        "# Keras is expecting features and lables as numpy arrays"
      ]
    },
    {
      "metadata": {
        "id": "oDqfnI5jzj5L",
        "colab_type": "code",
        "colab": {}
      },
      "cell_type": "code",
      "source": [
        "train_labels=np.array(train_labels)\n",
        "train_samples=np.array(train_samples)\n"
      ],
      "execution_count": 0,
      "outputs": []
    },
    {
      "metadata": {
        "id": "VJ0Vg2wf1oF6",
        "colab_type": "text"
      },
      "cell_type": "markdown",
      "source": [
        "#Features Sacling for faster computation\n",
        "\n",
        "\n",
        "\n"
      ]
    },
    {
      "metadata": {
        "id": "r5ULUHab0Eej",
        "colab_type": "code",
        "outputId": "3426b3ae-0e62-43a9-829a-6b735d24b69d",
        "colab": {
          "base_uri": "https://localhost:8080/",
          "height": 73
        }
      },
      "cell_type": "code",
      "source": [
        "#first you have to define the scaler range \n",
        "\n",
        "scaler=MinMaxScaler(feature_range=(0,1))\n",
        "\n",
        "## Scaling all the data to the scaler , \n",
        "\n",
        "scaled_train_examples=scaler.fit_transform((train_samples).reshape(-1,1))"
      ],
      "execution_count": 0,
      "outputs": [
        {
          "output_type": "stream",
          "text": [
            "/usr/local/lib/python2.7/dist-packages/sklearn/utils/validation.py:475: DataConversionWarning: Data with input dtype int64 was converted to float64 by MinMaxScaler.\n",
            "  warnings.warn(msg, DataConversionWarning)\n"
          ],
          "name": "stderr"
        }
      ]
    },
    {
      "metadata": {
        "id": "7-Ddu_2sDvXG",
        "colab_type": "text"
      },
      "cell_type": "markdown",
      "source": [
        "# Defining Layers for the Neural network Sequential(l1,l2,l3,....) We can also use\n",
        "model.add(l5) #Or\n",
        "model.append(l6)"
      ]
    },
    {
      "metadata": {
        "id": "5X91ZKNl17WQ",
        "colab_type": "code",
        "colab": {}
      },
      "cell_type": "code",
      "source": [
        "#if the activation function is not defined , Keras will define teh linear activation functon\n",
        "\n",
        "model=Sequential([Dense(16, input_shape=(1,) ,activation='relu'),Dense(32,activation='relu'),Dense(2,activation='softmax')])\n",
        "                  "
      ],
      "execution_count": 0,
      "outputs": []
    },
    {
      "metadata": {
        "id": "lpIhNT30taD8",
        "colab_type": "text"
      },
      "cell_type": "markdown",
      "source": [
        "relu is nearlz the same as logisic regression. Softmax is to force the output to have probability distribution"
      ]
    },
    {
      "metadata": {
        "id": "JkGt5LQ127vL",
        "colab_type": "code",
        "outputId": "c7ef9ca6-c739-4aff-d9f1-8d1311b03bfb",
        "colab": {
          "base_uri": "https://localhost:8080/",
          "height": 271
        }
      },
      "cell_type": "code",
      "source": [
        "model.summary()"
      ],
      "execution_count": 0,
      "outputs": [
        {
          "output_type": "stream",
          "text": [
            "_________________________________________________________________\n",
            "Layer (type)                 Output Shape              Param #   \n",
            "=================================================================\n",
            "dense_1 (Dense)              (None, 16)                32        \n",
            "_________________________________________________________________\n",
            "dense_2 (Dense)              (None, 32)                544       \n",
            "_________________________________________________________________\n",
            "dense_3 (Dense)              (None, 2)                 66        \n",
            "=================================================================\n",
            "Total params: 642\n",
            "Trainable params: 642\n",
            "Non-trainable params: 0\n",
            "_________________________________________________________________\n"
          ],
          "name": "stdout"
        }
      ]
    },
    {
      "metadata": {
        "id": "bHSMzxV4t0dS",
        "colab_type": "text"
      },
      "cell_type": "markdown",
      "source": [
        ""
      ]
    },
    {
      "metadata": {
        "id": "4dH1UJ5ADSYJ",
        "colab_type": "text"
      },
      "cell_type": "markdown",
      "source": [
        ""
      ]
    },
    {
      "metadata": {
        "id": "gMC14A4Lt50s",
        "colab_type": "text"
      },
      "cell_type": "markdown",
      "source": [
        "# Train an artificial neural network "
      ]
    },
    {
      "metadata": {
        "id": "dmh_gplAu5Mr",
        "colab_type": "text"
      },
      "cell_type": "markdown",
      "source": [
        "lr is the learning rate \n",
        "Loss is the choice of the cost function , it may be mean square error or mean absolute error "
      ]
    },
    {
      "metadata": {
        "id": "LetzlvYst_G9",
        "colab_type": "code",
        "colab": {}
      },
      "cell_type": "code",
      "source": [
        "model.compile(Adam(lr=0.0001), loss ='sparse_categorical_crossentropy', metrics=['accuracy'])"
      ],
      "execution_count": 0,
      "outputs": []
    },
    {
      "metadata": {
        "id": "zf6mJaT2xvqj",
        "colab_type": "text"
      },
      "cell_type": "markdown",
      "source": [
        ""
      ]
    },
    {
      "metadata": {
        "id": "7vcXDZOxyd40",
        "colab_type": "text"
      },
      "cell_type": "markdown",
      "source": [
        "# we are fitting our data to the model\n",
        "The training Examples , the labels and the batch \n",
        "the batch is how many of my training examples I want to process in a time\n",
        "Example by Example or group by group\n"
      ]
    },
    {
      "metadata": {
        "id": "dMl1anaByIsM",
        "colab_type": "code",
        "colab": {}
      },
      "cell_type": "code",
      "source": [
        "model.fit(scaled_train_examples,train_labels,validation_split=0.1,batch_size=10,epochs=20,shuffle=True,verbose=2)\n"
      ],
      "execution_count": 0,
      "outputs": []
    },
    {
      "metadata": {
        "id": "vGdmZduj04Cl",
        "colab_type": "text"
      },
      "cell_type": "markdown",
      "source": [
        ""
      ]
    },
    {
      "metadata": {
        "id": "8jtQG1DW06aL",
        "colab_type": "text"
      },
      "cell_type": "markdown",
      "source": [
        "#Building a Validation Set Using Keras\n",
        "The validation set will always be the last 10% of the data , there will be no shuffle in the data\n"
      ]
    },
    {
      "metadata": {
        "id": "WxHMDr31TNST",
        "colab_type": "text"
      },
      "cell_type": "markdown",
      "source": [
        "# Predicting \n"
      ]
    },
    {
      "metadata": {
        "id": "zczfwnjv09E2",
        "colab_type": "code",
        "colab": {}
      },
      "cell_type": "code",
      "source": [
        "test_labels=[]\n",
        "test_samples=[]\n",
        "\n",
        "for i in range(10):\n",
        "   random_younger=randint(13,64)\n",
        "   test_samples.append(random_younger)\n",
        "   test_labels.append(0)\n",
        "  \n",
        "   random_older=randint(65,100)\n",
        "   test_samples.append(random_older)\n",
        "   test_labels.append(1) \n",
        "\n",
        "\n",
        "\n",
        "\n",
        "\n",
        "for i in range(200):\n",
        "  random_younger=randint(13,64)\n",
        "  test_samples.append(random_younger)\n",
        "  test_labels.append(1)\n",
        "  \n",
        "  random_older=randint(65,100)\n",
        "  test_samples.append(random_older)\n",
        "  test_labels.append(0)\n",
        "  \n",
        "  \n",
        "test_labels=np.array(test_labels)\n",
        "test_samples=np.array(test_samples)\n",
        "\n",
        "  \n",
        "#first you have to define the scaler range \n",
        "\n",
        "scaler=MinMaxScaler(feature_range=(0,1))\n",
        "\n",
        "## Scaling all the data to the scaler , \n",
        "\n",
        "scaled_test_examples=scaler.fit_transform((test_samples).reshape(-1,1))"
      ],
      "execution_count": 0,
      "outputs": []
    },
    {
      "metadata": {
        "id": "wKdEF9RCUWM0",
        "colab_type": "code",
        "colab": {}
      },
      "cell_type": "code",
      "source": [
        "predictions=model.predict_classes(scaled_test_examples,batch_size=10,verbose=0)"
      ],
      "execution_count": 0,
      "outputs": []
    },
    {
      "metadata": {
        "id": "aPvT8geQU9nP",
        "colab_type": "code",
        "outputId": "24b11b83-afca-4027-89a7-dee1d4875b87",
        "colab": {
          "base_uri": "https://localhost:8080/",
          "height": 181
        }
      },
      "cell_type": "code",
      "source": [
        "for i in predictions:\n",
        "  print (i)"
      ],
      "execution_count": 0,
      "outputs": [
        {
          "output_type": "error",
          "ename": "NameError",
          "evalue": "ignored",
          "traceback": [
            "\u001b[0;31m\u001b[0m",
            "\u001b[0;31mNameError\u001b[0mTraceback (most recent call last)",
            "\u001b[0;32m<ipython-input-1-4297b6ddd3a7>\u001b[0m in \u001b[0;36m<module>\u001b[0;34m()\u001b[0m\n\u001b[0;32m----> 1\u001b[0;31m \u001b[0;32mfor\u001b[0m \u001b[0mi\u001b[0m \u001b[0;32min\u001b[0m \u001b[0mpredictions\u001b[0m\u001b[0;34m:\u001b[0m\u001b[0;34m\u001b[0m\u001b[0m\n\u001b[0m\u001b[1;32m      2\u001b[0m   \u001b[0;32mprint\u001b[0m \u001b[0;34m(\u001b[0m\u001b[0mi\u001b[0m\u001b[0;34m)\u001b[0m\u001b[0;34m\u001b[0m\u001b[0m\n",
            "\u001b[0;31mNameError\u001b[0m: name 'predictions' is not defined"
          ]
        }
      ]
    },
    {
      "metadata": {
        "id": "BiHeWUV1VGt4",
        "colab_type": "code",
        "colab": {}
      },
      "cell_type": "code",
      "source": [
        "predictions1=model.predict(scaled_test_examples,batch_size=10,verbose=0)"
      ],
      "execution_count": 0,
      "outputs": []
    },
    {
      "metadata": {
        "id": "_kDPcNbNWV_z",
        "colab_type": "code",
        "outputId": "f68a60c3-a022-4ae2-8b11-d0f65df47e95",
        "colab": {
          "base_uri": "https://localhost:8080/",
          "height": 7577
        }
      },
      "cell_type": "code",
      "source": [
        "predictions1\n",
        "  "
      ],
      "execution_count": 0,
      "outputs": [
        {
          "output_type": "execute_result",
          "data": {
            "text/plain": [
              "array([[0.0828815 , 0.91711855],\n",
              "       [0.8969077 , 0.10309236],\n",
              "       [0.08774716, 0.91225284],\n",
              "       [0.8763385 , 0.12366156],\n",
              "       [0.06905137, 0.9309487 ],\n",
              "       [0.95870024, 0.04129973],\n",
              "       [0.4512563 , 0.5487437 ],\n",
              "       [0.62769413, 0.37230587],\n",
              "       [0.07297575, 0.92702425],\n",
              "       [0.96107197, 0.03892805],\n",
              "       [0.12574147, 0.8742586 ],\n",
              "       [0.674248  , 0.325752  ],\n",
              "       [0.07040371, 0.9295963 ],\n",
              "       [0.80928856, 0.19071138],\n",
              "       [0.11523139, 0.8847686 ],\n",
              "       [0.578645  , 0.42135498],\n",
              "       [0.07853586, 0.92146415],\n",
              "       [0.578645  , 0.42135498],\n",
              "       [0.47675827, 0.5232417 ],\n",
              "       [0.6963599 , 0.30364016],\n",
              "       [0.07512981, 0.9248702 ],\n",
              "       [0.674248  , 0.325752  ],\n",
              "       [0.09919232, 0.9008076 ],\n",
              "       [0.8763385 , 0.12366156],\n",
              "       [0.42600793, 0.5739921 ],\n",
              "       [0.8246184 , 0.1753816 ],\n",
              "       [0.07193673, 0.9280633 ],\n",
              "       [0.9274625 , 0.07253749],\n",
              "       [0.0683021 , 0.9316979 ],\n",
              "       [0.9274626 , 0.07253745],\n",
              "       [0.06905137, 0.9309487 ],\n",
              "       [0.62769413, 0.37230587],\n",
              "       [0.1781546 , 0.8218454 ],\n",
              "       [0.90601236, 0.09398764],\n",
              "       [0.07458529, 0.92541474],\n",
              "       [0.651332  , 0.34866795],\n",
              "       [0.40113938, 0.59886056],\n",
              "       [0.965429  , 0.034571  ],\n",
              "       [0.07091133, 0.9290887 ],\n",
              "       [0.8763385 , 0.12366159],\n",
              "       [0.08774716, 0.91225284],\n",
              "       [0.96742743, 0.03257258],\n",
              "       [0.2862782 , 0.7137218 ],\n",
              "       [0.8523408 , 0.14765914],\n",
              "       [0.06945118, 0.9305488 ],\n",
              "       [0.8647882 , 0.13521177],\n",
              "       [0.19366978, 0.8063302 ],\n",
              "       [0.651332  , 0.34866795],\n",
              "       [0.06905137, 0.9309487 ],\n",
              "       [0.85234094, 0.14765912],\n",
              "       [0.06734832, 0.9326517 ],\n",
              "       [0.8389611 , 0.16103886],\n",
              "       [0.068663  , 0.931337  ],\n",
              "       [0.9446252 , 0.05537477],\n",
              "       [0.06734832, 0.9326517 ],\n",
              "       [0.92138726, 0.0786128 ],\n",
              "       [0.11523139, 0.8847686 ],\n",
              "       [0.95870024, 0.04129973],\n",
              "       [0.06944178, 0.9305582 ],\n",
              "       [0.8246184 , 0.17538162],\n",
              "       [0.06905137, 0.9309487 ],\n",
              "       [0.90601236, 0.09398764],\n",
              "       [0.07853586, 0.92146415],\n",
              "       [0.9477611 , 0.05223886],\n",
              "       [0.06989945, 0.9301005 ],\n",
              "       [0.95072865, 0.04927127],\n",
              "       [0.40113938, 0.59886056],\n",
              "       [0.95870024, 0.04129973],\n",
              "       [0.07040371, 0.9295963 ],\n",
              "       [0.8763385 , 0.12366159],\n",
              "       [0.06989945, 0.9301005 ],\n",
              "       [0.953536  , 0.04646401],\n",
              "       [0.06989945, 0.9301005 ],\n",
              "       [0.92138726, 0.0786128 ],\n",
              "       [0.07290234, 0.9270977 ],\n",
              "       [0.95072865, 0.04927127],\n",
              "       [0.07091134, 0.9290887 ],\n",
              "       [0.6034296 , 0.3965704 ],\n",
              "       [0.06989945, 0.9301005 ],\n",
              "       [0.6034296 , 0.3965704 ],\n",
              "       [0.15007353, 0.84992653],\n",
              "       [0.8523408 , 0.14765914],\n",
              "       [0.07404362, 0.92595637],\n",
              "       [0.9477611 , 0.05223886],\n",
              "       [0.07290234, 0.9270977 ],\n",
              "       [0.9477611 , 0.05223886],\n",
              "       [0.4512563 , 0.5487437 ],\n",
              "       [0.9376191 , 0.06238091],\n",
              "       [0.09919232, 0.9008076 ],\n",
              "       [0.674248  , 0.325752  ],\n",
              "       [0.0683021 , 0.9316979 ],\n",
              "       [0.95619065, 0.04380932],\n",
              "       [0.07853586, 0.92146415],\n",
              "       [0.94131273, 0.05868727],\n",
              "       [0.3299513 , 0.6700487 ],\n",
              "       [0.9477611 , 0.05223886],\n",
              "       [0.0683021 , 0.9316979 ],\n",
              "       [0.79295534, 0.2070446 ],\n",
              "       [0.21019067, 0.78980935],\n",
              "       [0.6034296 , 0.3965704 ],\n",
              "       [0.06742644, 0.93257356],\n",
              "       [0.92138726, 0.0786128 ],\n",
              "       [0.07853586, 0.92146415],\n",
              "       [0.96742743, 0.03257258],\n",
              "       [0.0828815 , 0.91711855],\n",
              "       [0.7572588 , 0.24274124],\n",
              "       [0.07142233, 0.92857766],\n",
              "       [0.8523408 , 0.14765914],\n",
              "       [0.07290234, 0.9270977 ],\n",
              "       [0.7929554 , 0.2070446 ],\n",
              "       [0.42600793, 0.5739921 ],\n",
              "       [0.95072865, 0.04927127],\n",
              "       [0.50238204, 0.49761796],\n",
              "       [0.62769413, 0.37230587],\n",
              "       [0.07091134, 0.9290887 ],\n",
              "       [0.8647882 , 0.13521177],\n",
              "       [0.26578954, 0.7342105 ],\n",
              "       [0.96107197, 0.03892805],\n",
              "       [0.12574148, 0.87425846],\n",
              "       [0.7572588 , 0.24274121],\n",
              "       [0.1781546 , 0.8218454 ],\n",
              "       [0.674248  , 0.325752  ],\n",
              "       [0.0683021 , 0.9316979 ],\n",
              "       [0.8523408 , 0.14765914],\n",
              "       [0.35300794, 0.6469921 ],\n",
              "       [0.8647882 , 0.13521177],\n",
              "       [0.13745552, 0.8625445 ],\n",
              "       [0.71759945, 0.28240052],\n",
              "       [0.0683021 , 0.9316979 ],\n",
              "       [0.7175995 , 0.2824005 ],\n",
              "       [0.06734832, 0.9326517 ],\n",
              "       [0.7379125 , 0.2620875 ],\n",
              "       [0.07142233, 0.92857766],\n",
              "       [0.965429  , 0.034571  ],\n",
              "       [0.13745552, 0.8625445 ],\n",
              "       [0.9477611 , 0.05223886],\n",
              "       [0.22772273, 0.77227724],\n",
              "       [0.8389611 , 0.16103886],\n",
              "       [0.15007356, 0.84992653],\n",
              "       [0.77561116, 0.22438884],\n",
              "       [0.24626124, 0.75373876],\n",
              "       [0.94131273, 0.05868727],\n",
              "       [0.10639002, 0.89360994],\n",
              "       [0.8763385 , 0.12366156],\n",
              "       [0.07193673, 0.9280633 ],\n",
              "       [0.6963598 , 0.30364013],\n",
              "       [0.07245453, 0.9275455 ],\n",
              "       [0.90601236, 0.09398764],\n",
              "       [0.5534579 , 0.4465421 ],\n",
              "       [0.7572588 , 0.24274121],\n",
              "       [0.06989945, 0.9301005 ],\n",
              "       [0.80928856, 0.19071138],\n",
              "       [0.10639002, 0.89360994],\n",
              "       [0.8523408 , 0.14765914],\n",
              "       [0.07040371, 0.9295963 ],\n",
              "       [0.95870024, 0.04129973],\n",
              "       [0.06945118, 0.9305488 ],\n",
              "       [0.9141991 , 0.08580085],\n",
              "       [0.08774719, 0.91225284],\n",
              "       [0.9141991 , 0.08580083],\n",
              "       [0.07091134, 0.9290887 ],\n",
              "       [0.578645  , 0.42135498],\n",
              "       [0.06905137, 0.9309487 ],\n",
              "       [0.9446252 , 0.05537477],\n",
              "       [0.24626124, 0.75373876],\n",
              "       [0.71759945, 0.28240052],\n",
              "       [0.11523139, 0.8847686 ],\n",
              "       [0.965429  , 0.034571  ],\n",
              "       [0.07091133, 0.9290887 ],\n",
              "       [0.8763385 , 0.12366159],\n",
              "       [0.40113938, 0.59886056],\n",
              "       [0.7572588 , 0.24274124],\n",
              "       [0.08774716, 0.91225284],\n",
              "       [0.71759945, 0.28240052],\n",
              "       [0.4512563 , 0.5487437 ],\n",
              "       [0.95619065, 0.04380932],\n",
              "       [0.07404362, 0.92595637],\n",
              "       [0.8870309 , 0.11296907],\n",
              "       [0.2862782 , 0.7137218 ],\n",
              "       [0.8389611 , 0.16103886],\n",
              "       [0.13745552, 0.8625445 ],\n",
              "       [0.96742743, 0.03257258],\n",
              "       [0.24626124, 0.75373876],\n",
              "       [0.9376191 , 0.06238091],\n",
              "       [0.07040371, 0.9295963 ],\n",
              "       [0.7756111 , 0.22438887],\n",
              "       [0.07512981, 0.9248702 ],\n",
              "       [0.96107197, 0.03892805],\n",
              "       [0.0828815 , 0.91711855],\n",
              "       [0.9376191 , 0.06238091],\n",
              "       [0.3767698 , 0.62323016],\n",
              "       [0.7756111 , 0.22438887],\n",
              "       [0.07040371, 0.9295963 ],\n",
              "       [0.578645  , 0.42135498],\n",
              "       [0.0683021 , 0.9316979 ],\n",
              "       [0.94131273, 0.05868727],\n",
              "       [0.06945118, 0.9305488 ],\n",
              "       [0.94131273, 0.05868727],\n",
              "       [0.0745853 , 0.92541474],\n",
              "       [0.92138726, 0.07861277],\n",
              "       [0.06734832, 0.9326517 ],\n",
              "       [0.8246184 , 0.1753816 ],\n",
              "       [0.1781546 , 0.8218454 ],\n",
              "       [0.71759945, 0.28240052],\n",
              "       [0.07290234, 0.9270977 ],\n",
              "       [0.95072865, 0.04927127],\n",
              "       [0.07091134, 0.9290887 ],\n",
              "       [0.92138726, 0.0786128 ],\n",
              "       [0.06771716, 0.9322828 ],\n",
              "       [0.9141991 , 0.08580083],\n",
              "       [0.26578954, 0.7342105 ],\n",
              "       [0.7379125 , 0.2620875 ],\n",
              "       [0.21019062, 0.78980935],\n",
              "       [0.80928856, 0.19071138],\n",
              "       [0.06905137, 0.9309487 ],\n",
              "       [0.8246184 , 0.1753816 ],\n",
              "       [0.06989945, 0.9301005 ],\n",
              "       [0.953536  , 0.04646401],\n",
              "       [0.06905137, 0.9309487 ],\n",
              "       [0.9376191 , 0.06238091],\n",
              "       [0.5534579 , 0.4465421 ],\n",
              "       [0.9274625 , 0.07253749],\n",
              "       [0.06742644, 0.93257356],\n",
              "       [0.8389611 , 0.16103886],\n",
              "       [0.4512563 , 0.5487437 ],\n",
              "       [0.8389611 , 0.16103886],\n",
              "       [0.26578954, 0.7342105 ],\n",
              "       [0.80928856, 0.19071138],\n",
              "       [0.19366978, 0.8063302 ],\n",
              "       [0.95870024, 0.04129973],\n",
              "       [0.5534579 , 0.4465421 ],\n",
              "       [0.92138726, 0.0786128 ],\n",
              "       [0.2862782 , 0.7137218 ],\n",
              "       [0.79295534, 0.2070446 ],\n",
              "       [0.40113938, 0.59886056],\n",
              "       [0.7756111 , 0.22438887],\n",
              "       [0.06944178, 0.9305582 ],\n",
              "       [0.96742743, 0.03257258],\n",
              "       [0.47675827, 0.5232417 ],\n",
              "       [0.8389611 , 0.16103886],\n",
              "       [0.30768442, 0.6923156 ],\n",
              "       [0.651332  , 0.34866795],\n",
              "       [0.06742644, 0.93257356],\n",
              "       [0.71759945, 0.28240052],\n",
              "       [0.07853586, 0.92146415],\n",
              "       [0.9141991 , 0.08580085],\n",
              "       [0.06742644, 0.93257356],\n",
              "       [0.96107197, 0.03892805],\n",
              "       [0.21019067, 0.78980935],\n",
              "       [0.8246184 , 0.17538162],\n",
              "       [0.06742644, 0.93257356],\n",
              "       [0.8763385 , 0.12366156],\n",
              "       [0.06989945, 0.9301005 ],\n",
              "       [0.7756111 , 0.22438887],\n",
              "       [0.13745552, 0.8625445 ],\n",
              "       [0.9446252 , 0.05537477],\n",
              "       [0.08774716, 0.91225284],\n",
              "       [0.95072865, 0.04927127],\n",
              "       [0.09317422, 0.9068258 ],\n",
              "       [0.8647882 , 0.13521177],\n",
              "       [0.42600793, 0.5739921 ],\n",
              "       [0.9330546 , 0.06694534],\n",
              "       [0.09919232, 0.9008076 ],\n",
              "       [0.79295534, 0.2070446 ],\n",
              "       [0.09919232, 0.9008076 ],\n",
              "       [0.9376191 , 0.06238091],\n",
              "       [0.09317422, 0.9068258 ],\n",
              "       [0.71759945, 0.28240052],\n",
              "       [0.26578954, 0.7342105 ],\n",
              "       [0.8389611 , 0.16103886],\n",
              "       [0.19366978, 0.8063302 ],\n",
              "       [0.90601236, 0.09398764],\n",
              "       [0.07106083, 0.9289392 ],\n",
              "       [0.71759945, 0.28240052],\n",
              "       [0.07297577, 0.92702425],\n",
              "       [0.7379125 , 0.2620875 ],\n",
              "       [0.13745552, 0.8625445 ],\n",
              "       [0.92138726, 0.0786128 ],\n",
              "       [0.06944178, 0.9305582 ],\n",
              "       [0.9446252 , 0.05537477],\n",
              "       [0.12574147, 0.8742586 ],\n",
              "       [0.8523408 , 0.14765914],\n",
              "       [0.07245453, 0.9275455 ],\n",
              "       [0.6963598 , 0.30364013],\n",
              "       [0.42600793, 0.5739921 ],\n",
              "       [0.8389611 , 0.16103886],\n",
              "       [0.09317422, 0.9068258 ],\n",
              "       [0.9376191 , 0.06238091],\n",
              "       [0.07350556, 0.9264945 ],\n",
              "       [0.6963599 , 0.30364016],\n",
              "       [0.26578954, 0.7342105 ],\n",
              "       [0.9141991 , 0.08580085],\n",
              "       [0.13745552, 0.8625445 ],\n",
              "       [0.8969077 , 0.10309236],\n",
              "       [0.06734832, 0.9326517 ],\n",
              "       [0.79295534, 0.2070446 ],\n",
              "       [0.09317422, 0.9068258 ],\n",
              "       [0.674248  , 0.325752  ],\n",
              "       [0.0724545 , 0.9275455 ],\n",
              "       [0.674248  , 0.325752  ],\n",
              "       [0.1636301 , 0.83636993],\n",
              "       [0.9376191 , 0.06238091],\n",
              "       [0.09317422, 0.9068258 ],\n",
              "       [0.9274625 , 0.07253749],\n",
              "       [0.42600793, 0.5739921 ],\n",
              "       [0.965429  , 0.034571  ],\n",
              "       [0.07853586, 0.92146415],\n",
              "       [0.96107197, 0.03892805],\n",
              "       [0.0724545 , 0.9275455 ],\n",
              "       [0.85234094, 0.14765912],\n",
              "       [0.15007353, 0.84992653],\n",
              "       [0.9376191 , 0.06238091],\n",
              "       [0.2862782 , 0.7137218 ],\n",
              "       [0.9633127 , 0.03668734],\n",
              "       [0.50238204, 0.49761796],\n",
              "       [0.95072865, 0.04927127],\n",
              "       [0.0683021 , 0.9316979 ],\n",
              "       [0.965429  , 0.034571  ],\n",
              "       [0.07193673, 0.9280633 ],\n",
              "       [0.9330546 , 0.06694534],\n",
              "       [0.06800904, 0.9319909 ],\n",
              "       [0.8870309 , 0.11296907],\n",
              "       [0.11523139, 0.8847686 ],\n",
              "       [0.9446252 , 0.05537477],\n",
              "       [0.3299513 , 0.6700487 ],\n",
              "       [0.71759945, 0.28240052],\n",
              "       [0.13745552, 0.8625445 ],\n",
              "       [0.8763385 , 0.12366156],\n",
              "       [0.16363013, 0.83636993],\n",
              "       [0.85234094, 0.14765912],\n",
              "       [0.06944178, 0.9305582 ],\n",
              "       [0.8523408 , 0.14765914],\n",
              "       [0.06944178, 0.9305582 ],\n",
              "       [0.7572588 , 0.24274124],\n",
              "       [0.07290234, 0.9270977 ],\n",
              "       [0.96742743, 0.03257258],\n",
              "       [0.5534579 , 0.4465421 ],\n",
              "       [0.965429  , 0.034571  ],\n",
              "       [0.06734835, 0.9326516 ],\n",
              "       [0.77561116, 0.22438884],\n",
              "       [0.4512563 , 0.5487437 ],\n",
              "       [0.9274625 , 0.07253749],\n",
              "       [0.13745552, 0.8625445 ],\n",
              "       [0.8969077 , 0.10309236],\n",
              "       [0.07193673, 0.9280633 ],\n",
              "       [0.8763385 , 0.12366156],\n",
              "       [0.21019062, 0.78980935],\n",
              "       [0.578645  , 0.42135498],\n",
              "       [0.0828815 , 0.91711855],\n",
              "       [0.9274626 , 0.07253745],\n",
              "       [0.35300794, 0.6469921 ],\n",
              "       [0.62769413, 0.37230587],\n",
              "       [0.07193673, 0.9280633 ],\n",
              "       [0.6034296 , 0.3965704 ],\n",
              "       [0.07245453, 0.9275455 ],\n",
              "       [0.578645  , 0.42135498],\n",
              "       [0.06742644, 0.93257356],\n",
              "       [0.95870024, 0.04129973],\n",
              "       [0.502382  , 0.49761793],\n",
              "       [0.90601236, 0.09398764],\n",
              "       [0.07106083, 0.9289392 ],\n",
              "       [0.62769413, 0.37230587],\n",
              "       [0.07142233, 0.92857766],\n",
              "       [0.80928856, 0.19071138],\n",
              "       [0.19366978, 0.8063302 ],\n",
              "       [0.6034296 , 0.3965704 ],\n",
              "       [0.5534579 , 0.4465421 ],\n",
              "       [0.651332  , 0.34866795],\n",
              "       [0.26578954, 0.7342105 ],\n",
              "       [0.77561116, 0.22438884],\n",
              "       [0.06771716, 0.9322828 ],\n",
              "       [0.8870309 , 0.11296907],\n",
              "       [0.3299513 , 0.6700487 ],\n",
              "       [0.96742743, 0.03257258],\n",
              "       [0.24626124, 0.75373876],\n",
              "       [0.95072865, 0.04927127],\n",
              "       [0.19366978, 0.8063302 ],\n",
              "       [0.9477611 , 0.05223886],\n",
              "       [0.4512563 , 0.5487437 ],\n",
              "       [0.95870024, 0.04129973],\n",
              "       [0.24626124, 0.75373876],\n",
              "       [0.90601236, 0.09398764],\n",
              "       [0.09317422, 0.9068258 ],\n",
              "       [0.95072865, 0.04927127],\n",
              "       [0.06800904, 0.9319909 ],\n",
              "       [0.6034296 , 0.3965704 ],\n",
              "       [0.11523139, 0.8847686 ],\n",
              "       [0.953536  , 0.04646401],\n",
              "       [0.42600793, 0.5739921 ],\n",
              "       [0.7929554 , 0.2070446 ],\n",
              "       [0.15007353, 0.84992653],\n",
              "       [0.8523408 , 0.14765914],\n",
              "       [0.26578954, 0.7342105 ],\n",
              "       [0.95870024, 0.04129973],\n",
              "       [0.3767698 , 0.62323016],\n",
              "       [0.9376191 , 0.06238091],\n",
              "       [0.21019062, 0.78980935],\n",
              "       [0.71759945, 0.28240052],\n",
              "       [0.21019067, 0.78980935],\n",
              "       [0.90601236, 0.09398764],\n",
              "       [0.11523139, 0.8847686 ],\n",
              "       [0.8647882 , 0.13521177],\n",
              "       [0.3299513 , 0.6700487 ],\n",
              "       [0.90601236, 0.09398764],\n",
              "       [0.12574147, 0.8742586 ],\n",
              "       [0.8523408 , 0.14765914],\n",
              "       [0.50238204, 0.49761796],\n",
              "       [0.9141991 , 0.08580085],\n",
              "       [0.4512563 , 0.5487437 ],\n",
              "       [0.89690757, 0.10309239],\n",
              "       [0.15007353, 0.84992653],\n",
              "       [0.7756111 , 0.22438887],\n",
              "       [0.07091134, 0.9290887 ],\n",
              "       [0.9141991 , 0.08580085],\n",
              "       [0.3299513 , 0.6700487 ],\n",
              "       [0.7379125 , 0.2620875 ],\n",
              "       [0.3767698 , 0.62323016],\n",
              "       [0.8389611 , 0.16103886],\n",
              "       [0.13745557, 0.8625445 ],\n",
              "       [0.9376191 , 0.06238091]], dtype=float32)"
            ]
          },
          "metadata": {
            "tags": []
          },
          "execution_count": 14
        }
      ]
    },
    {
      "metadata": {
        "id": "T4LjBEW9m4tW",
        "colab_type": "text"
      },
      "cell_type": "markdown",
      "source": [
        "## Confusion Matrix"
      ]
    },
    {
      "metadata": {
        "id": "Iln6SjeZm7c3",
        "colab_type": "code",
        "colab": {}
      },
      "cell_type": "code",
      "source": [
        "% matplotlib inline\n",
        "import sklearn\n",
        "from sklearn.metrics import confusion_matrix\n",
        "import matplotlib.pyplot as plt\n",
        "\n",
        "\n",
        "predictions_new=[]\n",
        "\n",
        "for i in predictions:\n",
        "\n",
        "   predictions_new.append(i)"
      ],
      "execution_count": 0,
      "outputs": []
    },
    {
      "metadata": {
        "id": "rEC77MKdnAWr",
        "colab_type": "code",
        "colab": {}
      },
      "cell_type": "code",
      "source": [
        "cm=confusion_matrix(test_labels,predictions)"
      ],
      "execution_count": 0,
      "outputs": []
    },
    {
      "metadata": {
        "id": "56_J0mhQnf8X",
        "colab_type": "code",
        "colab": {}
      },
      "cell_type": "code",
      "source": [
        "def plot_confusion_matrix(cm, classes,\n",
        "                          normalize=False,\n",
        "                          title='Confusion matrix',\n",
        "                          cmap=plt.cm.Blues):\n",
        "    \"\"\"\n",
        "    This function prints and plots the confusion matrix.\n",
        "    Normalization can be applied by setting `normalize=True`.\n",
        "    \"\"\"\n",
        "    if normalize:\n",
        "        cm = cm.astype('float') / cm.sum(axis=1)[:, np.newaxis]\n",
        "        print(\"Normalized confusion matrix\")\n",
        "    else:\n",
        "        print('Confusion matrix, without normalization')\n",
        "\n",
        "    print(cm)\n",
        "\n",
        "    plt.imshow(cm, interpolation='nearest', cmap=cmap)\n",
        "    plt.title(title)\n",
        "    plt.colorbar()\n",
        "    tick_marks = np.arange(len(classes))\n",
        "    plt.xticks(tick_marks, classes, rotation=45)\n",
        "    plt.yticks(tick_marks, classes)\n",
        "\n",
        "    fmt = '.2f' if normalize else 'd'\n",
        "    thresh = cm.max() / 2.\n",
        "    for i, j in itertools.product(range(cm.shape[0]), range(cm.shape[1])):\n",
        "        plt.text(j, i, format(cm[i, j], fmt),\n",
        "                 horizontalalignment=\"center\",\n",
        "                 color=\"white\" if cm[i, j] > thresh else \"black\")\n",
        "\n",
        "    plt.ylabel('True label')\n",
        "    plt.xlabel('Predicted label')\n",
        "    plt.tight_layout()"
      ],
      "execution_count": 0,
      "outputs": []
    },
    {
      "metadata": {
        "id": "DKp0zsR0se9W",
        "colab_type": "code",
        "outputId": "8eee5eec-cbd2-4206-ba06-cccbdb5e3cb3",
        "colab": {
          "base_uri": "https://localhost:8080/",
          "height": 870
        }
      },
      "cell_type": "code",
      "source": [
        "cm_plot_labels=['no_side_effects','had_side_effects']\n",
        "plot_confusion_matrix(cm,cm_plot_labels,title='confusion_Matrix')"
      ],
      "execution_count": 0,
      "outputs": [
        {
          "output_type": "stream",
          "text": [
            "Confusion matrix, without normalization\n",
            "[[200  10]\n",
            " [ 19 191]]\n"
          ],
          "name": "stdout"
        },
        {
          "output_type": "error",
          "ename": "NameError",
          "evalue": "ignored",
          "traceback": [
            "\u001b[0;31m\u001b[0m",
            "\u001b[0;31mNameError\u001b[0mTraceback (most recent call last)",
            "\u001b[0;32m<ipython-input-18-453585774170>\u001b[0m in \u001b[0;36m<module>\u001b[0;34m()\u001b[0m\n\u001b[1;32m      1\u001b[0m \u001b[0mcm_plot_labels\u001b[0m\u001b[0;34m=\u001b[0m\u001b[0;34m[\u001b[0m\u001b[0;34m'no_side_effects'\u001b[0m\u001b[0;34m,\u001b[0m\u001b[0;34m'had_side_effects'\u001b[0m\u001b[0;34m]\u001b[0m\u001b[0;34m\u001b[0m\u001b[0m\n\u001b[0;32m----> 2\u001b[0;31m \u001b[0mplot_confusion_matrix\u001b[0m\u001b[0;34m(\u001b[0m\u001b[0mcm\u001b[0m\u001b[0;34m,\u001b[0m\u001b[0mcm_plot_labels\u001b[0m\u001b[0;34m,\u001b[0m\u001b[0mtitle\u001b[0m\u001b[0;34m=\u001b[0m\u001b[0;34m'confusion_Matrix'\u001b[0m\u001b[0;34m)\u001b[0m\u001b[0;34m\u001b[0m\u001b[0m\n\u001b[0m",
            "\u001b[0;32m<ipython-input-17-7b4a05762fe9>\u001b[0m in \u001b[0;36mplot_confusion_matrix\u001b[0;34m(cm, classes, normalize, title, cmap)\u001b[0m\n\u001b[1;32m     24\u001b[0m     \u001b[0mfmt\u001b[0m \u001b[0;34m=\u001b[0m \u001b[0;34m'.2f'\u001b[0m \u001b[0;32mif\u001b[0m \u001b[0mnormalize\u001b[0m \u001b[0;32melse\u001b[0m \u001b[0;34m'd'\u001b[0m\u001b[0;34m\u001b[0m\u001b[0m\n\u001b[1;32m     25\u001b[0m     \u001b[0mthresh\u001b[0m \u001b[0;34m=\u001b[0m \u001b[0mcm\u001b[0m\u001b[0;34m.\u001b[0m\u001b[0mmax\u001b[0m\u001b[0;34m(\u001b[0m\u001b[0;34m)\u001b[0m \u001b[0;34m/\u001b[0m \u001b[0;36m2.\u001b[0m\u001b[0;34m\u001b[0m\u001b[0m\n\u001b[0;32m---> 26\u001b[0;31m     \u001b[0;32mfor\u001b[0m \u001b[0mi\u001b[0m\u001b[0;34m,\u001b[0m \u001b[0mj\u001b[0m \u001b[0;32min\u001b[0m \u001b[0mitertools\u001b[0m\u001b[0;34m.\u001b[0m\u001b[0mproduct\u001b[0m\u001b[0;34m(\u001b[0m\u001b[0mrange\u001b[0m\u001b[0;34m(\u001b[0m\u001b[0mcm\u001b[0m\u001b[0;34m.\u001b[0m\u001b[0mshape\u001b[0m\u001b[0;34m[\u001b[0m\u001b[0;36m0\u001b[0m\u001b[0;34m]\u001b[0m\u001b[0;34m)\u001b[0m\u001b[0;34m,\u001b[0m \u001b[0mrange\u001b[0m\u001b[0;34m(\u001b[0m\u001b[0mcm\u001b[0m\u001b[0;34m.\u001b[0m\u001b[0mshape\u001b[0m\u001b[0;34m[\u001b[0m\u001b[0;36m1\u001b[0m\u001b[0;34m]\u001b[0m\u001b[0;34m)\u001b[0m\u001b[0;34m)\u001b[0m\u001b[0;34m:\u001b[0m\u001b[0;34m\u001b[0m\u001b[0m\n\u001b[0m\u001b[1;32m     27\u001b[0m         plt.text(j, i, format(cm[i, j], fmt),\n\u001b[1;32m     28\u001b[0m                  \u001b[0mhorizontalalignment\u001b[0m\u001b[0;34m=\u001b[0m\u001b[0;34m\"center\"\u001b[0m\u001b[0;34m,\u001b[0m\u001b[0;34m\u001b[0m\u001b[0m\n",
            "\u001b[0;31mNameError\u001b[0m: global name 'itertools' is not defined"
          ]
        },
        {
          "output_type": "display_data",
          "data": {
            "image/png": "[encoded data removed]",
            "text/plain": [
              "<matplotlib.figure.Figure at 0x7f712c042550>"
            ]
          },
          "metadata": {
            "tags": []
          }
        }
      ]
    },
    {
      "metadata": {
        "id": "1M7oSzmGsmjg",
        "colab_type": "code",
        "colab": {}
      },
      "cell_type": "code",
      "source": [
        "model.save('medical_trial_model.h')"
      ],
      "execution_count": 0,
      "outputs": []
    },
    {
      "metadata": {
        "id": "gnNhOVQOu9MK",
        "colab_type": "code",
        "outputId": "86d28072-e12c-4c1d-da22-c65e41b23a37",
        "colab": {
          "base_uri": "https://localhost:8080/",
          "height": 235
        }
      },
      "cell_type": "code",
      "source": [
        "import pandas as pd\n",
        "sf =pd.DataFrame ({'x':[1,2,3,4,5,6],\n",
        "'y':['a','b','c','d','e','f']})\n",
        "\n",
        "sf"
      ],
      "execution_count": 0,
      "outputs": [
        {
          "output_type": "execute_result",
          "data": {
            "text/html": [
              "<div>\n",
              "<style scoped>\n",
              "    .dataframe tbody tr th:only-of-type {\n",
              "        vertical-align: middle;\n",
              "    }\n",
              "\n",
              "    .dataframe tbody tr th {\n",
              "        vertical-align: top;\n",
              "    }\n",
              "\n",
              "    .dataframe thead th {\n",
              "        text-align: right;\n",
              "    }\n",
              "</style>\n",
              "<table border=\"1\" class=\"dataframe\">\n",
              "  <thead>\n",
              "    <tr style=\"text-align: right;\">\n",
              "      <th></th>\n",
              "      <th>x</th>\n",
              "      <th>y</th>\n",
              "    </tr>\n",
              "  </thead>\n",
              "  <tbody>\n",
              "    <tr>\n",
              "      <th>0</th>\n",
              "      <td>1</td>\n",
              "      <td>a</td>\n",
              "    </tr>\n",
              "    <tr>\n",
              "      <th>1</th>\n",
              "      <td>2</td>\n",
              "      <td>b</td>\n",
              "    </tr>\n",
              "    <tr>\n",
              "      <th>2</th>\n",
              "      <td>3</td>\n",
              "      <td>c</td>\n",
              "    </tr>\n",
              "    <tr>\n",
              "      <th>3</th>\n",
              "      <td>4</td>\n",
              "      <td>d</td>\n",
              "    </tr>\n",
              "    <tr>\n",
              "      <th>4</th>\n",
              "      <td>5</td>\n",
              "      <td>e</td>\n",
              "    </tr>\n",
              "    <tr>\n",
              "      <th>5</th>\n",
              "      <td>6</td>\n",
              "      <td>f</td>\n",
              "    </tr>\n",
              "  </tbody>\n",
              "</table>\n",
              "</div>"
            ],
            "text/plain": [
              "   x  y\n",
              "0  1  a\n",
              "1  2  b\n",
              "2  3  c\n",
              "3  4  d\n",
              "4  5  e\n",
              "5  6  f"
            ]
          },
          "metadata": {
            "tags": []
          },
          "execution_count": 21
        }
      ]
    }
  ]
}